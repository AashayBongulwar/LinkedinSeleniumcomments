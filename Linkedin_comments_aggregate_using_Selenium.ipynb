{
 "cells": [
  {
   "cell_type": "code",
   "execution_count": null,
   "id": "3c24ef9d",
   "metadata": {},
   "outputs": [],
   "source": [
    "import pandas as pd\n",
    "import re\n",
    "from selenium import webdriver\n",
    "from selenium.webdriver.common.keys import Keys\n",
    "#importing necessary modules"
   ]
  },
  {
   "cell_type": "code",
   "execution_count": null,
   "id": "143a6137",
   "metadata": {},
   "outputs": [],
   "source": [
    "browser=webdriver.Chrome(\"chromedriver.exe\")\n",
    "#opening chrome browser using chromedriver"
   ]
  },
  {
   "cell_type": "code",
   "execution_count": null,
   "id": "5d05863c",
   "metadata": {},
   "outputs": [],
   "source": [
    "browser.get(\"https://www.linkedin.com/\")"
   ]
  },
  {
   "cell_type": "code",
   "execution_count": null,
   "id": "82f4ecba",
   "metadata": {},
   "outputs": [],
   "source": [
    "username=browser.find_element_by_id(\"session_key\")\n",
    "username.send_keys(\"youremail\")\n",
    "password=browser.find_element_by_id(\"session_password\")\n",
    "password.send_keys(\"yourpassword\")\n",
    "#sending keys to linkedin"
   ]
  },
  {
   "cell_type": "code",
   "execution_count": null,
   "id": "b67e218c",
   "metadata": {},
   "outputs": [],
   "source": [
    "login_button=browser.find_element_by_class_name(\"sign-in-form__submit-button\")\n",
    "login_button.click()\n",
    "#pressing login button"
   ]
  },
  {
   "cell_type": "code",
   "execution_count": null,
   "id": "56127042",
   "metadata": {},
   "outputs": [],
   "source": [
    "browser.get(\"paste the post link which you want to extract\")\n",
    "#opening the link"
   ]
  },
  {
   "cell_type": "code",
   "execution_count": null,
   "id": "240e5617",
   "metadata": {},
   "outputs": [],
   "source": [
    "globalemail=[]\n",
    "header=[]\n",
    "Names=[]\n",
    "#initializing lists"
   ]
  },
  {
   "cell_type": "code",
   "execution_count": null,
   "id": "ce9cf924",
   "metadata": {},
   "outputs": [],
   "source": [
    "posts=browser.find_elements_by_class_name(\"comments-comment-item\")#find element by class name the name we want is the single entity comment box, we will take all by writing element(s)\n",
    "#looping\n",
    "for post in posts:\n",
    "    anchortags=post.find_elements_by_tag_name('a') #finding anchor tags in a comment box\n",
    "    last_anchor=str(anchortags[-1].text) #taking the last anchor, first is image second is name, third is email if put in. we take -1\n",
    "    globalemail.append(last_anchor)\n",
    "    headline=post.find_element_by_tag_name('h3') #better method to extract name, directly going into name section of comment box\n",
    "    header.append(headline)\n",
    "for fullh3 in header:\n",
    "    allspans=fullh3.find_elements_by_tag_name(\"span\") #finding all spans in h3\n",
    "    finalname=allspans[1].text #taking the second one as it contains the first name\n",
    "    king=finalname.split() #split \n",
    "    Names.append(king[0]) #take first name and append\n",
    "        "
   ]
  },
  {
   "cell_type": "code",
   "execution_count": null,
   "id": "4b106318",
   "metadata": {},
   "outputs": [],
   "source": [
    "df=pd.DataFrame(list(zip(Names,globalemail)),\n",
    "               columns=['name','email']) \n",
    "#using zip functionality to converge all and then sending into a dataframe"
   ]
  },
  {
   "cell_type": "code",
   "execution_count": null,
   "id": "07282509",
   "metadata": {},
   "outputs": [],
   "source": [
    "print(df.tail())"
   ]
  },
  {
   "cell_type": "code",
   "execution_count": null,
   "id": "24637bea",
   "metadata": {},
   "outputs": [],
   "source": [
    "filename=input(\"Give name to file \")\n",
    "df.to_csv(filename+\".csv\",index=False)"
   ]
  }
 ],
 "metadata": {
  "kernelspec": {
   "display_name": "nlp_course",
   "language": "python",
   "name": "nlp_course"
  },
  "language_info": {
   "codemirror_mode": {
    "name": "ipython",
    "version": 3
   },
   "file_extension": ".py",
   "mimetype": "text/x-python",
   "name": "python",
   "nbconvert_exporter": "python",
   "pygments_lexer": "ipython3",
   "version": "3.7.10"
  }
 },
 "nbformat": 4,
 "nbformat_minor": 5
}
