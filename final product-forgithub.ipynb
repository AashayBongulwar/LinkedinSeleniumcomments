{
 "cells": [
  {
   "cell_type": "code",
   "execution_count": 1,
   "id": "152913bc",
   "metadata": {},
   "outputs": [],
   "source": [
    "import pandas as pd\n",
    "import re\n",
    "from selenium import webdriver\n",
    "from selenium.webdriver.common.keys import Keys\n",
    "#importing necessary modules"
   ]
  },
  {
   "cell_type": "code",
   "execution_count": 2,
   "id": "3ef2ab6d",
   "metadata": {},
   "outputs": [],
   "source": [
    "browser=webdriver.Chrome(\"chromedriver.exe\")\n",
    "#opening chrome browser using chromedriver"
   ]
  },
  {
   "cell_type": "code",
   "execution_count": 3,
   "id": "348c0e45",
   "metadata": {},
   "outputs": [],
   "source": [
    "browser.get(\"https://www.linkedin.com/\")\n"
   ]
  },
  {
   "cell_type": "code",
   "execution_count": 4,
   "id": "f10f30dc",
   "metadata": {},
   "outputs": [],
   "source": [
    "username=browser.find_element_by_id(\"session_key\")\n",
    "username.send_keys(\"youremail\")\n",
    "password=browser.find_element_by_id(\"session_password\")\n",
    "password.send_keys(\"yourpassword\")\n",
    "#sending keys to linkedin"
   ]
  },
  {
   "cell_type": "code",
   "execution_count": 5,
   "id": "b86335d6",
   "metadata": {},
   "outputs": [],
   "source": [
    "login_button=browser.find_element_by_class_name(\"sign-in-form__submit-button\")\n",
    "login_button.click()\n",
    "#pressing login button"
   ]
  },
  {
   "cell_type": "code",
   "execution_count": 6,
   "id": "837de10a",
   "metadata": {},
   "outputs": [],
   "source": [
    "browser.get(\"paste the post link which you want to extract\")\n",
    "#opening the link"
   ]
  },
  {
   "cell_type": "code",
   "execution_count": 1,
   "id": "e28fe0ba",
   "metadata": {},
   "outputs": [],
   "source": [
    "globalemail=[]\n",
    "header=[]\n",
    "Names=[]\n",
    "#initializing lists"
   ]
  },
  {
   "cell_type": "code",
   "execution_count": 8,
   "id": "6f8e20ce",
   "metadata": {},
   "outputs": [],
   "source": [
    "posts=browser.find_elements_by_class_name(\"comments-comment-item\")#find element by class name the name we want is the single entity comment box, we will take all by writing element(s)\n",
    "#looping\n",
    "for post in posts:\n",
    "    anchortags=post.find_elements_by_tag_name('a') #finding anchor tags in a comment box\n",
    "    last_anchor=str(anchortags[-1].text) #taking the last anchor, first is image second is name, third is email if put in. we take -1\n",
    "    globalemail.append(last_anchor)\n",
    "    headline=post.find_element_by_tag_name('h3') #better method to extract name, directly going into name section of comment box\n",
    "    header.append(headline)\n",
    "for fullh3 in header:\n",
    "    allspans=fullh3.find_elements_by_tag_name(\"span\") #finding all spans in h3\n",
    "    finalname=allspans[1].text #taking the second one as it contains the first name\n",
    "    king=finalname.split() #split \n",
    "    Names.append(king[0]) #take first name and append\n",
    "        "
   ]
  },
  {
   "cell_type": "code",
   "execution_count": 2,
   "id": "5d9a8b9f",
   "metadata": {},
   "outputs": [
    {
     "ename": "NameError",
     "evalue": "name 'pd' is not defined",
     "output_type": "error",
     "traceback": [
      "\u001b[1;31m---------------------------------------------------------------------------\u001b[0m",
      "\u001b[1;31mNameError\u001b[0m                                 Traceback (most recent call last)",
      "\u001b[1;32m<ipython-input-2-8eaac71166a3>\u001b[0m in \u001b[0;36m<module>\u001b[1;34m\u001b[0m\n\u001b[1;32m----> 1\u001b[1;33m df=pd.DataFrame(list(zip(Names,globalemail)),\n\u001b[0m\u001b[0;32m      2\u001b[0m                columns=['name','email']) \n\u001b[0;32m      3\u001b[0m \u001b[1;31m#using zip functionality to converge all and then sending into a dataframe\u001b[0m\u001b[1;33m\u001b[0m\u001b[1;33m\u001b[0m\u001b[1;33m\u001b[0m\u001b[0m\n",
      "\u001b[1;31mNameError\u001b[0m: name 'pd' is not defined"
     ]
    }
   ],
   "source": [
    "df=pd.DataFrame(list(zip(Names,globalemail)),\n",
    "               columns=['name','email']) \n",
    "#using zip functionality to converge all and then sending into a dataframe"
   ]
  },
  {
   "cell_type": "code",
   "execution_count": 10,
   "id": "a01ec04f",
   "metadata": {},
   "outputs": [
    {
     "name": "stdout",
     "output_type": "stream",
     "text": [
      "            name                                              email\n",
      "9   Vaideeshwari                                                   \n",
      "10          ARSH                             araina_be19@thapar.edu\n",
      "11        Akshat                                joshiar_2@rknec.edu\n",
      "12         Vinay  DREAMS CLUES | LinkedIn\\nDREAMS CLUES | Linked...\n",
      "13       Vasudha  DREAMS CLUES | LinkedIn\\nDREAMS CLUES | Linked...\n"
     ]
    }
   ],
   "source": [
    "print(df.tail())"
   ]
  },
  {
   "cell_type": "code",
   "execution_count": 11,
   "id": "b8206b4c",
   "metadata": {},
   "outputs": [
    {
     "name": "stdout",
     "output_type": "stream",
     "text": [
      "Give name to file asian paint mail\n"
     ]
    }
   ],
   "source": [
    "filename=input(\"Give name to file \")\n",
    "df.to_csv(filename+\".csv\",index=False)"
   ]
  },
  {
   "cell_type": "code",
   "execution_count": null,
   "id": "cc6ddde2",
   "metadata": {},
   "outputs": [],
   "source": []
  }
 ],
 "metadata": {
  "kernelspec": {
   "display_name": "nlp_course",
   "language": "python",
   "name": "nlp_course"
  },
  "language_info": {
   "codemirror_mode": {
    "name": "ipython",
    "version": 3
   },
   "file_extension": ".py",
   "mimetype": "text/x-python",
   "name": "python",
   "nbconvert_exporter": "python",
   "pygments_lexer": "ipython3",
   "version": "3.7.10"
  }
 },
 "nbformat": 4,
 "nbformat_minor": 5
}
